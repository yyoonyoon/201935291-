{
  "cells": [
    {
      "cell_type": "markdown",
      "metadata": {
        "id": "view-in-github",
        "colab_type": "text"
      },
      "source": [
        "<a href=\"https://colab.research.google.com/github/yyoonyoon/201935291-/blob/main/9_2.ipynb\" target=\"_parent\"><img src=\"https://colab.research.google.com/assets/colab-badge.svg\" alt=\"Open In Colab\"/></a>"
      ]
    },
    {
      "cell_type": "markdown",
      "metadata": {
        "id": "MusV5YYT6kQF"
      },
      "source": [
        "# 순환 신경망으로 IMDB 리뷰 분류하기"
      ]
    },
    {
      "cell_type": "markdown",
      "metadata": {
        "id": "9uYfRb5-6kQQ"
      },
      "source": [
        "<table align=\"left\">\n",
        "  <td>\n",
        "    <a target=\"_blank\" href=\"https://colab.research.google.com/github/rickiepark/hg-mldl/blob/master/9-2.ipynb\"><img src=\"https://www.tensorflow.org/images/colab_logo_32px.png\" />구글 코랩에서 실행하기</a>\n",
        "  </td>\n",
        "</table>"
      ]
    },
    {
      "cell_type": "code",
      "execution_count": null,
      "metadata": {
        "id": "oBxL32NvSEVb"
      },
      "outputs": [],
      "source": [
        "# 실행마다 동일한 결과를 얻기 위해 케라스에 랜덤 시드를 사용하고 텐서플로 연산을 결정적으로 만듭니다.\n",
        "import tensorflow as tf\n",
        "\n",
        "tf.keras.utils.set_random_seed(42)\n",
        "tf.config.experimental.enable_op_determinism()"
      ]
    },
    {
      "cell_type": "markdown",
      "metadata": {
        "id": "S1A-DDIQ6kQQ"
      },
      "source": [
        "## IMDB 리뷰 데이터셋"
      ]
    },
    {
      "cell_type": "code",
      "execution_count": null,
      "metadata": {
        "colab": {
          "base_uri": "https://localhost:8080/"
        },
        "id": "sZoZm1ZO6kQR",
        "outputId": "8f162cf4-1a39-4080-9d9f-1345fa691739"
      },
      "outputs": [
        {
          "output_type": "stream",
          "name": "stdout",
          "text": [
            "Downloading data from https://storage.googleapis.com/tensorflow/tf-keras-datasets/imdb.npz\n",
            "17464789/17464789 [==============================] - 0s 0us/step\n"
          ]
        }
      ],
      "source": [
        "from tensorflow.keras.datasets import imdb\n",
        "\n",
        "(train_input, train_target), (test_input, test_target) = imdb.load_data(\n",
        "    num_words=300)"
      ]
    },
    {
      "cell_type": "code",
      "execution_count": null,
      "metadata": {
        "colab": {
          "base_uri": "https://localhost:8080/"
        },
        "id": "HTFjz6k06kQR",
        "outputId": "ae36d403-7f58-4006-b4f1-c593ce5eb7c5"
      },
      "outputs": [
        {
          "output_type": "stream",
          "name": "stdout",
          "text": [
            "(25000,) (25000,)\n"
          ]
        }
      ],
      "source": [
        "print(train_input.shape, test_input.shape)"
      ]
    },
    {
      "cell_type": "code",
      "execution_count": null,
      "metadata": {
        "colab": {
          "base_uri": "https://localhost:8080/"
        },
        "id": "4jMLURzw6kQS",
        "outputId": "345bd2ab-f9f9-4930-bba4-a0c20ab6de7a"
      },
      "outputs": [
        {
          "output_type": "stream",
          "name": "stdout",
          "text": [
            "218\n"
          ]
        }
      ],
      "source": [
        "print(len(train_input[0]))"
      ]
    },
    {
      "cell_type": "code",
      "execution_count": null,
      "metadata": {
        "colab": {
          "base_uri": "https://localhost:8080/"
        },
        "id": "xdO834PL6kQT",
        "outputId": "e12cf580-35f8-481d-8b66-47b4de43b2fd"
      },
      "outputs": [
        {
          "output_type": "stream",
          "name": "stdout",
          "text": [
            "189\n"
          ]
        }
      ],
      "source": [
        "print(len(train_input[1]))"
      ]
    },
    {
      "cell_type": "code",
      "execution_count": null,
      "metadata": {
        "colab": {
          "base_uri": "https://localhost:8080/"
        },
        "id": "QNuzGQ2c6kQT",
        "outputId": "eb35125e-61fb-479b-fbb9-cec36e7494cf"
      },
      "outputs": [
        {
          "output_type": "stream",
          "name": "stdout",
          "text": [
            "[1, 14, 22, 16, 43, 2, 2, 2, 2, 65, 2, 2, 66, 2, 4, 173, 36, 256, 5, 25, 100, 43, 2, 112, 50, 2, 2, 9, 35, 2, 284, 5, 150, 4, 172, 112, 167, 2, 2, 2, 39, 4, 172, 2, 2, 17, 2, 38, 13, 2, 4, 192, 50, 16, 6, 147, 2, 19, 14, 22, 4, 2, 2, 2, 4, 22, 71, 87, 12, 16, 43, 2, 38, 76, 15, 13, 2, 4, 22, 17, 2, 17, 12, 16, 2, 18, 2, 5, 62, 2, 12, 8, 2, 8, 106, 5, 4, 2, 2, 16, 2, 66, 2, 33, 4, 130, 12, 16, 38, 2, 5, 25, 124, 51, 36, 135, 48, 25, 2, 33, 6, 22, 12, 215, 28, 77, 52, 5, 14, 2, 16, 82, 2, 8, 4, 107, 117, 2, 15, 256, 4, 2, 7, 2, 5, 2, 36, 71, 43, 2, 2, 26, 2, 2, 46, 7, 4, 2, 2, 13, 104, 88, 4, 2, 15, 297, 98, 32, 2, 56, 26, 141, 6, 194, 2, 18, 4, 226, 22, 21, 134, 2, 26, 2, 5, 144, 30, 2, 18, 51, 36, 28, 224, 92, 25, 104, 4, 226, 65, 16, 38, 2, 88, 12, 16, 283, 5, 16, 2, 113, 103, 32, 15, 16, 2, 19, 178, 32]\n"
          ]
        }
      ],
      "source": [
        "print(train_input[0])"
      ]
    },
    {
      "cell_type": "code",
      "execution_count": null,
      "metadata": {
        "colab": {
          "base_uri": "https://localhost:8080/"
        },
        "id": "In8Qzltz6kQT",
        "outputId": "df64e3c3-b476-47ea-ca33-b679fbc4d0ee"
      },
      "outputs": [
        {
          "output_type": "stream",
          "name": "stdout",
          "text": [
            "[1 0 0 1 0 0 1 0 1 0 1 0 0 0 0 0 1 1 0 1]\n"
          ]
        }
      ],
      "source": [
        "print(train_target[:20])"
      ]
    },
    {
      "cell_type": "code",
      "execution_count": null,
      "metadata": {
        "id": "0-zjNgBw6kQU"
      },
      "outputs": [],
      "source": [
        "from sklearn.model_selection import train_test_split\n",
        "\n",
        "train_input, val_input, train_target, val_target = train_test_split(\n",
        "    train_input, train_target, test_size=0.2, random_state=42)"
      ]
    },
    {
      "cell_type": "code",
      "execution_count": null,
      "metadata": {
        "id": "sRVvgntx6kQU"
      },
      "outputs": [],
      "source": [
        "import numpy as np\n",
        "\n",
        "lengths = np.array([len(x) for x in train_input])"
      ]
    },
    {
      "cell_type": "code",
      "execution_count": null,
      "metadata": {
        "colab": {
          "base_uri": "https://localhost:8080/"
        },
        "id": "p76m_61w6kQU",
        "outputId": "5ab14954-5b6b-452a-f7e3-8d39dd0b4745"
      },
      "outputs": [
        {
          "output_type": "stream",
          "name": "stdout",
          "text": [
            "239.00925 178.0\n"
          ]
        }
      ],
      "source": [
        "print(np.mean(lengths), np.median(lengths))"
      ]
    },
    {
      "cell_type": "code",
      "execution_count": null,
      "metadata": {
        "colab": {
          "base_uri": "https://localhost:8080/",
          "height": 449
        },
        "id": "TVDrsRYF6kQV",
        "outputId": "dc109dc5-812f-4c9c-f161-7996aa6e32db"
      },
      "outputs": [
        {
          "output_type": "display_data",
          "data": {
            "text/plain": [
              "<Figure size 640x480 with 1 Axes>"
            ],
            "image/png": "[encoded data removed]"
          },
          "metadata": {}
        }
      ],
      "source": [
        "import matplotlib.pyplot as plt\n",
        "\n",
        "plt.hist(lengths)\n",
        "plt.xlabel('length')\n",
        "plt.ylabel('frequency')\n",
        "plt.show()"
      ]
    },
    {
      "cell_type": "code",
      "execution_count": null,
      "metadata": {
        "id": "fbLSFToP6kQV"
      },
      "outputs": [],
      "source": [
        "from tensorflow.keras.preprocessing.sequence import pad_sequences\n",
        "\n",
        "train_seq = pad_sequences(train_input, maxlen=100)"
      ]
    },
    {
      "cell_type": "code",
      "execution_count": null,
      "metadata": {
        "colab": {
          "base_uri": "https://localhost:8080/"
        },
        "id": "3c86x0Yj6kQV",
        "outputId": "41c5c2ed-c692-414f-c002-672957c60899"
      },
      "outputs": [
        {
          "output_type": "stream",
          "name": "stdout",
          "text": [
            "(20000, 100)\n"
          ]
        }
      ],
      "source": [
        "print(train_seq.shape)"
      ]
    },
    {
      "cell_type": "code",
      "execution_count": null,
      "metadata": {
        "colab": {
          "base_uri": "https://localhost:8080/"
        },
        "id": "JuP0QJaU6kQW",
        "outputId": "aa7ad51e-3f78-4da7-de0a-c4a467ff3a68"
      },
      "outputs": [
        {
          "output_type": "stream",
          "name": "stdout",
          "text": [
            "[ 10   4  20   9   2   2   2   5  45   6   2   2  33 269   8   2 142   2\n",
            "   5   2  17  73  17 204   5   2  19  55   2   2  92  66 104  14  20  93\n",
            "  76   2 151  33   4  58  12 188   2 151  12 215  69 224 142  73 237   6\n",
            "   2   7   2   2 188   2 103  14  31  10  10   2   7   2   5   2  80  91\n",
            "   2  30   2  34  14  20 151  50  26 131  49   2  84  46  50  37  80  79\n",
            "   6   2  46   7  14  20  10  10   2 158]\n"
          ]
        }
      ],
      "source": [
        "print(train_seq[0])"
      ]
    },
    {
      "cell_type": "code",
      "execution_count": null,
      "metadata": {
        "colab": {
          "base_uri": "https://localhost:8080/"
        },
        "id": "6t8kaDji6kQW",
        "outputId": "e8de311c-e14c-4b11-ed7e-e8097cc9e75d"
      },
      "outputs": [
        {
          "output_type": "stream",
          "name": "stdout",
          "text": [
            "[6, 2, 46, 7, 14, 20, 10, 10, 2, 158]\n"
          ]
        }
      ],
      "source": [
        "print(train_input[0][-10:])"
      ]
    },
    {
      "cell_type": "code",
      "execution_count": null,
      "metadata": {
        "colab": {
          "base_uri": "https://localhost:8080/"
        },
        "id": "Emmoztwa6kQX",
        "outputId": "b02ee754-9a12-420b-b7ef-dba4b1326409",
        "scrolled": true
      },
      "outputs": [
        {
          "output_type": "stream",
          "name": "stdout",
          "text": [
            "[  0   0   0   0   1   2 195  19  49   2   2 190   4   2   2   2 183  10\n",
            "  10  13  82  79   4   2  36  71 269   8   2  25  19  49   7   4   2   2\n",
            "   2   2   2  10  10  48  25  40   2  11   2   2  40   2   2   5   4   2\n",
            "   2  95  14 238  56 129   2  10  10  21   2  94   2   2   2   2  11 190\n",
            "  24   2   2   7  94 205   2  10  10  87   2  34  49   2   7   2   2   2\n",
            "   2   2 290   2  46  48  64  18   4   2]\n"
          ]
        }
      ],
      "source": [
        "print(train_seq[5])"
      ]
    },
    {
      "cell_type": "code",
      "execution_count": null,
      "metadata": {
        "id": "ZeFmsjOd6kQX"
      },
      "outputs": [],
      "source": [
        "val_seq = pad_sequences(val_input, maxlen=100)"
      ]
    },
    {
      "cell_type": "markdown",
      "metadata": {
        "id": "9xab0nu_6kQX"
      },
      "source": [
        "## 순환 신경망 만들기"
      ]
    },
    {
      "cell_type": "code",
      "execution_count": null,
      "metadata": {
        "id": "45BtHGKX6kQX"
      },
      "outputs": [],
      "source": [
        "from tensorflow import keras\n",
        "\n",
        "model = keras.Sequential()\n",
        "\n",
        "model.add(keras.layers.SimpleRNN(8, input_shape=(100, 300)))\n",
        "model.add(keras.layers.Dense(1, activation='sigmoid'))"
      ]
    },
    {
      "cell_type": "code",
      "execution_count": null,
      "metadata": {
        "id": "oXIWyOuw6kQY"
      },
      "outputs": [],
      "source": [
        "train_oh = keras.utils.to_categorical(train_seq)"
      ]
    },
    {
      "cell_type": "code",
      "execution_count": null,
      "metadata": {
        "colab": {
          "base_uri": "https://localhost:8080/"
        },
        "id": "VD94WiRT6kQY",
        "outputId": "96179a4e-cb8c-469b-953b-21d404330738"
      },
      "outputs": [
        {
          "output_type": "stream",
          "name": "stdout",
          "text": [
            "(20000, 100, 300)\n"
          ]
        }
      ],
      "source": [
        "print(train_oh.shape)"
      ]
    },
    {
      "cell_type": "code",
      "execution_count": null,
      "metadata": {
        "colab": {
          "base_uri": "https://localhost:8080/"
        },
        "id": "VIVSHwJg6kQY",
        "outputId": "3578f832-5291-41ec-84ba-795df5122dcf"
      },
      "outputs": [
        {
          "output_type": "stream",
          "name": "stdout",
          "text": [
            "[0. 0. 0. 0. 0. 0. 0. 0. 0. 0. 1. 0.]\n"
          ]
        }
      ],
      "source": [
        "print(train_oh[0][0][:12])"
      ]
    },
    {
      "cell_type": "code",
      "execution_count": null,
      "metadata": {
        "colab": {
          "base_uri": "https://localhost:8080/"
        },
        "id": "CP3ivii46kQZ",
        "outputId": "bb4321c3-abb6-4d2d-9533-ca700943e40c"
      },
      "outputs": [
        {
          "output_type": "stream",
          "name": "stdout",
          "text": [
            "1.0\n"
          ]
        }
      ],
      "source": [
        "print(np.sum(train_oh[0][0]))"
      ]
    },
    {
      "cell_type": "code",
      "execution_count": null,
      "metadata": {
        "id": "vgijH6m26kQZ"
      },
      "outputs": [],
      "source": [
        "val_oh = keras.utils.to_categorical(val_seq)"
      ]
    },
    {
      "cell_type": "code",
      "execution_count": null,
      "metadata": {
        "colab": {
          "base_uri": "https://localhost:8080/"
        },
        "id": "0V0Svpuf6kQZ",
        "outputId": "94fbe518-a5e5-414b-a7d8-947b33c12093"
      },
      "outputs": [
        {
          "output_type": "stream",
          "name": "stdout",
          "text": [
            "Model: \"sequential\"\n",
            "_________________________________________________________________\n",
            " Layer (type)                Output Shape              Param #   \n",
            "=================================================================\n",
            " simple_rnn (SimpleRNN)      (None, 8)                 2472      \n",
            "                                                                 \n",
            " dense (Dense)               (None, 1)                 9         \n",
            "                                                                 \n",
            "=================================================================\n",
            "Total params: 2481 (9.69 KB)\n",
            "Trainable params: 2481 (9.69 KB)\n",
            "Non-trainable params: 0 (0.00 Byte)\n",
            "_________________________________________________________________\n"
          ]
        }
      ],
      "source": [
        "model.summary()"
      ]
    },
    {
      "cell_type": "markdown",
      "metadata": {
        "id": "S22Hc-7L6kQZ"
      },
      "source": [
        "## 순환 신경망 훈련하기"
      ]
    },
    {
      "cell_type": "code",
      "execution_count": null,
      "metadata": {
        "colab": {
          "base_uri": "https://localhost:8080/"
        },
        "id": "YcwM299t6kQZ",
        "outputId": "90a632f2-f42d-4867-80fb-cff61682eac8"
      },
      "outputs": [
        {
          "output_type": "stream",
          "name": "stdout",
          "text": [
            "Epoch 1/100\n",
            "313/313 [==============================] - 31s 80ms/step - loss: 0.7003 - accuracy: 0.5002 - val_loss: 0.6970 - val_accuracy: 0.5058\n",
            "Epoch 2/100\n",
            "  2/313 [..............................] - ETA: 17s - loss: 0.7103 - accuracy: 0.5078"
          ]
        },
        {
          "output_type": "stream",
          "name": "stderr",
          "text": [
            "/usr/local/lib/python3.10/dist-packages/keras/src/engine/training.py:3079: UserWarning: You are saving your model as an HDF5 file via `model.save()`. This file format is considered legacy. We recommend using instead the native Keras format, e.g. `model.save('my_model.keras')`.\n",
            "  saving_api.save_model(\n"
          ]
        },
        {
          "output_type": "stream",
          "name": "stdout",
          "text": [
            "313/313 [==============================] - 22s 70ms/step - loss: 0.6956 - accuracy: 0.5123 - val_loss: 0.6946 - val_accuracy: 0.5124\n",
            "Epoch 3/100\n",
            "313/313 [==============================] - 23s 74ms/step - loss: 0.6917 - accuracy: 0.5282 - val_loss: 0.6909 - val_accuracy: 0.5318\n",
            "Epoch 4/100\n",
            "313/313 [==============================] - 23s 74ms/step - loss: 0.6844 - accuracy: 0.5549 - val_loss: 0.6833 - val_accuracy: 0.5690\n",
            "Epoch 5/100\n",
            "313/313 [==============================] - 24s 75ms/step - loss: 0.6784 - accuracy: 0.5778 - val_loss: 0.6797 - val_accuracy: 0.5770\n",
            "Epoch 6/100\n",
            "313/313 [==============================] - 23s 73ms/step - loss: 0.6734 - accuracy: 0.5890 - val_loss: 0.6743 - val_accuracy: 0.5890\n",
            "Epoch 7/100\n",
            "313/313 [==============================] - 26s 83ms/step - loss: 0.6676 - accuracy: 0.6068 - val_loss: 0.6695 - val_accuracy: 0.5982\n",
            "Epoch 8/100\n",
            "313/313 [==============================] - 21s 68ms/step - loss: 0.6614 - accuracy: 0.6197 - val_loss: 0.6628 - val_accuracy: 0.6112\n",
            "Epoch 9/100\n",
            "313/313 [==============================] - 23s 73ms/step - loss: 0.6539 - accuracy: 0.6309 - val_loss: 0.6567 - val_accuracy: 0.6228\n",
            "Epoch 10/100\n",
            "313/313 [==============================] - 22s 71ms/step - loss: 0.6461 - accuracy: 0.6445 - val_loss: 0.6481 - val_accuracy: 0.6366\n",
            "Epoch 11/100\n",
            "313/313 [==============================] - 22s 70ms/step - loss: 0.6377 - accuracy: 0.6564 - val_loss: 0.6409 - val_accuracy: 0.6486\n",
            "Epoch 12/100\n",
            "313/313 [==============================] - 23s 74ms/step - loss: 0.6285 - accuracy: 0.6684 - val_loss: 0.6302 - val_accuracy: 0.6642\n",
            "Epoch 13/100\n",
            "313/313 [==============================] - 22s 69ms/step - loss: 0.6191 - accuracy: 0.6804 - val_loss: 0.6211 - val_accuracy: 0.6740\n",
            "Epoch 14/100\n",
            "313/313 [==============================] - 23s 73ms/step - loss: 0.6092 - accuracy: 0.6884 - val_loss: 0.6122 - val_accuracy: 0.6824\n",
            "Epoch 15/100\n",
            "313/313 [==============================] - 24s 78ms/step - loss: 0.5992 - accuracy: 0.6998 - val_loss: 0.6032 - val_accuracy: 0.6896\n",
            "Epoch 16/100\n",
            "313/313 [==============================] - 23s 74ms/step - loss: 0.5900 - accuracy: 0.7071 - val_loss: 0.5935 - val_accuracy: 0.6972\n",
            "Epoch 17/100\n",
            "313/313 [==============================] - 23s 73ms/step - loss: 0.5816 - accuracy: 0.7142 - val_loss: 0.5855 - val_accuracy: 0.7028\n",
            "Epoch 18/100\n",
            "313/313 [==============================] - 22s 70ms/step - loss: 0.5731 - accuracy: 0.7209 - val_loss: 0.5785 - val_accuracy: 0.7094\n",
            "Epoch 19/100\n",
            "313/313 [==============================] - 22s 70ms/step - loss: 0.5648 - accuracy: 0.7260 - val_loss: 0.5691 - val_accuracy: 0.7174\n",
            "Epoch 20/100\n",
            "313/313 [==============================] - 23s 73ms/step - loss: 0.5569 - accuracy: 0.7308 - val_loss: 0.5620 - val_accuracy: 0.7214\n",
            "Epoch 21/100\n",
            "313/313 [==============================] - 22s 70ms/step - loss: 0.5503 - accuracy: 0.7351 - val_loss: 0.5560 - val_accuracy: 0.7234\n",
            "Epoch 22/100\n",
            "313/313 [==============================] - 23s 72ms/step - loss: 0.5443 - accuracy: 0.7391 - val_loss: 0.5515 - val_accuracy: 0.7266\n",
            "Epoch 23/100\n",
            "313/313 [==============================] - 22s 72ms/step - loss: 0.5381 - accuracy: 0.7427 - val_loss: 0.5473 - val_accuracy: 0.7300\n",
            "Epoch 24/100\n",
            "313/313 [==============================] - 23s 75ms/step - loss: 0.5339 - accuracy: 0.7456 - val_loss: 0.5423 - val_accuracy: 0.7344\n",
            "Epoch 25/100\n",
            "313/313 [==============================] - 23s 74ms/step - loss: 0.5297 - accuracy: 0.7477 - val_loss: 0.5385 - val_accuracy: 0.7342\n",
            "Epoch 26/100\n",
            "313/313 [==============================] - 23s 73ms/step - loss: 0.5257 - accuracy: 0.7510 - val_loss: 0.5360 - val_accuracy: 0.7376\n",
            "Epoch 27/100\n",
            "313/313 [==============================] - 22s 71ms/step - loss: 0.5223 - accuracy: 0.7534 - val_loss: 0.5330 - val_accuracy: 0.7386\n",
            "Epoch 28/100\n",
            "313/313 [==============================] - 23s 73ms/step - loss: 0.5192 - accuracy: 0.7556 - val_loss: 0.5315 - val_accuracy: 0.7352\n",
            "Epoch 29/100\n",
            "313/313 [==============================] - 21s 68ms/step - loss: 0.5159 - accuracy: 0.7567 - val_loss: 0.5394 - val_accuracy: 0.7338\n",
            "Epoch 30/100\n",
            "313/313 [==============================] - 23s 73ms/step - loss: 0.5133 - accuracy: 0.7573 - val_loss: 0.5275 - val_accuracy: 0.7386\n",
            "Epoch 31/100\n",
            "313/313 [==============================] - 22s 70ms/step - loss: 0.5116 - accuracy: 0.7596 - val_loss: 0.5254 - val_accuracy: 0.7428\n",
            "Epoch 32/100\n",
            "313/313 [==============================] - 22s 71ms/step - loss: 0.5090 - accuracy: 0.7609 - val_loss: 0.5244 - val_accuracy: 0.7450\n",
            "Epoch 33/100\n",
            "313/313 [==============================] - 25s 79ms/step - loss: 0.5071 - accuracy: 0.7610 - val_loss: 0.5243 - val_accuracy: 0.7438\n",
            "Epoch 34/100\n",
            "313/313 [==============================] - 21s 68ms/step - loss: 0.5047 - accuracy: 0.7625 - val_loss: 0.5242 - val_accuracy: 0.7446\n",
            "Epoch 35/100\n",
            "313/313 [==============================] - 24s 78ms/step - loss: 0.5036 - accuracy: 0.7634 - val_loss: 0.5218 - val_accuracy: 0.7460\n",
            "Epoch 36/100\n",
            "313/313 [==============================] - 23s 73ms/step - loss: 0.5022 - accuracy: 0.7638 - val_loss: 0.5202 - val_accuracy: 0.7462\n",
            "Epoch 37/100\n",
            "313/313 [==============================] - 21s 68ms/step - loss: 0.5006 - accuracy: 0.7654 - val_loss: 0.5208 - val_accuracy: 0.7482\n",
            "Epoch 38/100\n",
            "313/313 [==============================] - 23s 74ms/step - loss: 0.4992 - accuracy: 0.7649 - val_loss: 0.5210 - val_accuracy: 0.7468\n",
            "Epoch 39/100\n",
            "313/313 [==============================] - 23s 73ms/step - loss: 0.4982 - accuracy: 0.7659 - val_loss: 0.5201 - val_accuracy: 0.7442\n",
            "Epoch 40/100\n",
            "313/313 [==============================] - 22s 70ms/step - loss: 0.4959 - accuracy: 0.7671 - val_loss: 0.5180 - val_accuracy: 0.7446\n",
            "Epoch 41/100\n",
            "313/313 [==============================] - 23s 73ms/step - loss: 0.4950 - accuracy: 0.7684 - val_loss: 0.5162 - val_accuracy: 0.7470\n",
            "Epoch 42/100\n",
            "313/313 [==============================] - 31s 99ms/step - loss: 0.4942 - accuracy: 0.7686 - val_loss: 0.5164 - val_accuracy: 0.7480\n",
            "Epoch 43/100\n",
            "313/313 [==============================] - 24s 78ms/step - loss: 0.4931 - accuracy: 0.7696 - val_loss: 0.5152 - val_accuracy: 0.7484\n",
            "Epoch 44/100\n",
            "313/313 [==============================] - 23s 74ms/step - loss: 0.4919 - accuracy: 0.7692 - val_loss: 0.5139 - val_accuracy: 0.7460\n",
            "Epoch 45/100\n",
            "313/313 [==============================] - 23s 73ms/step - loss: 0.4916 - accuracy: 0.7699 - val_loss: 0.5148 - val_accuracy: 0.7478\n",
            "Epoch 46/100\n",
            "313/313 [==============================] - 24s 77ms/step - loss: 0.4902 - accuracy: 0.7703 - val_loss: 0.5157 - val_accuracy: 0.7458\n",
            "Epoch 47/100\n",
            "313/313 [==============================] - 22s 69ms/step - loss: 0.4892 - accuracy: 0.7714 - val_loss: 0.5147 - val_accuracy: 0.7496\n"
          ]
        }
      ],
      "source": [
        "rmsprop = keras.optimizers.RMSprop(learning_rate=1e-4)\n",
        "model.compile(optimizer=rmsprop, loss='binary_crossentropy',\n",
        "              metrics=['accuracy'])\n",
        "\n",
        "checkpoint_cb = keras.callbacks.ModelCheckpoint('best-simplernn-model.h5',\n",
        "                                                save_best_only=True)\n",
        "early_stopping_cb = keras.callbacks.EarlyStopping(patience=3,\n",
        "                                                  restore_best_weights=True)\n",
        "\n",
        "history = model.fit(train_oh, train_target, epochs=100, batch_size=64,\n",
        "                    validation_data=(val_oh, val_target),\n",
        "                    callbacks=[checkpoint_cb, early_stopping_cb])"
      ]
    },
    {
      "cell_type": "code",
      "execution_count": null,
      "metadata": {
        "colab": {
          "base_uri": "https://localhost:8080/",
          "height": 449
        },
        "id": "YS_5tIG26kQa",
        "outputId": "be13fad5-017a-4aa1-9143-29abb7a0815b"
      },
      "outputs": [
        {
          "output_type": "display_data",
          "data": {
            "text/plain": [
              "<Figure size 640x480 with 1 Axes>"
            ],
            "image/png": "[encoded data removed]"
          },
          "metadata": {}
        }
      ],
      "source": [
        "plt.plot(history.history['loss'])\n",
        "plt.plot(history.history['val_loss'])\n",
        "plt.xlabel('epoch')\n",
        "plt.ylabel('loss')\n",
        "plt.legend(['train', 'val'])\n",
        "plt.show()"
      ]
    },
    {
      "cell_type": "markdown",
      "metadata": {
        "id": "K_U_lVie6kQa"
      },
      "source": [
        "## 단어 임베딩을 사용하기"
      ]
    },
    {
      "cell_type": "code",
      "execution_count": null,
      "metadata": {
        "colab": {
          "base_uri": "https://localhost:8080/"
        },
        "id": "Ofl-Ifev6kQa",
        "outputId": "690f697b-aea5-4b7a-d8fd-ab76ea2521cd"
      },
      "outputs": [
        {
          "output_type": "stream",
          "name": "stdout",
          "text": [
            "Model: \"sequential_1\"\n",
            "_________________________________________________________________\n",
            " Layer (type)                Output Shape              Param #   \n",
            "=================================================================\n",
            " embedding (Embedding)       (None, 100, 16)           4800      \n",
            "                                                                 \n",
            " simple_rnn_1 (SimpleRNN)    (None, 8)                 200       \n",
            "                                                                 \n",
            " dense_1 (Dense)             (None, 1)                 9         \n",
            "                                                                 \n",
            "=================================================================\n",
            "Total params: 5009 (19.57 KB)\n",
            "Trainable params: 5009 (19.57 KB)\n",
            "Non-trainable params: 0 (0.00 Byte)\n",
            "_________________________________________________________________\n"
          ]
        }
      ],
      "source": [
        "model2 = keras.Sequential()\n",
        "\n",
        "model2.add(keras.layers.Embedding(300, 16, input_length=100))\n",
        "model2.add(keras.layers.SimpleRNN(8))\n",
        "model2.add(keras.layers.Dense(1, activation='sigmoid'))\n",
        "\n",
        "model2.summary()"
      ]
    },
    {
      "cell_type": "code",
      "execution_count": null,
      "metadata": {
        "colab": {
          "base_uri": "https://localhost:8080/"
        },
        "id": "78TUrJAs6kQa",
        "outputId": "201fcba8-e210-4179-d841-c29e5b8f3974"
      },
      "outputs": [
        {
          "output_type": "stream",
          "name": "stdout",
          "text": [
            "Epoch 1/100\n",
            "313/313 [==============================] - 39s 119ms/step - loss: 0.6893 - accuracy: 0.5351 - val_loss: 0.6706 - val_accuracy: 0.5872\n",
            "Epoch 2/100\n",
            "313/313 [==============================] - 35s 112ms/step - loss: 0.6399 - accuracy: 0.6467 - val_loss: 0.6234 - val_accuracy: 0.6664\n",
            "Epoch 3/100\n",
            "313/313 [==============================] - 35s 112ms/step - loss: 0.6051 - accuracy: 0.6941 - val_loss: 0.6003 - val_accuracy: 0.6948\n",
            "Epoch 4/100\n",
            "313/313 [==============================] - 36s 114ms/step - loss: 0.5831 - accuracy: 0.7172 - val_loss: 0.5888 - val_accuracy: 0.7026\n",
            "Epoch 5/100\n",
            "313/313 [==============================] - 34s 110ms/step - loss: 0.5663 - accuracy: 0.7305 - val_loss: 0.5669 - val_accuracy: 0.7300\n",
            "Epoch 6/100\n",
            "313/313 [==============================] - 33s 107ms/step - loss: 0.5527 - accuracy: 0.7408 - val_loss: 0.5536 - val_accuracy: 0.7356\n",
            "Epoch 7/100\n",
            "313/313 [==============================] - 35s 112ms/step - loss: 0.5410 - accuracy: 0.7475 - val_loss: 0.5422 - val_accuracy: 0.7404\n",
            "Epoch 8/100\n",
            "313/313 [==============================] - 33s 105ms/step - loss: 0.5313 - accuracy: 0.7509 - val_loss: 0.5443 - val_accuracy: 0.7352\n",
            "Epoch 9/100\n",
            "313/313 [==============================] - 38s 120ms/step - loss: 0.5236 - accuracy: 0.7549 - val_loss: 0.5463 - val_accuracy: 0.7238\n",
            "Epoch 10/100\n",
            "313/313 [==============================] - 35s 112ms/step - loss: 0.5177 - accuracy: 0.7578 - val_loss: 0.5377 - val_accuracy: 0.7382\n",
            "Epoch 11/100\n",
            "313/313 [==============================] - 35s 111ms/step - loss: 0.5135 - accuracy: 0.7590 - val_loss: 0.5264 - val_accuracy: 0.7454\n",
            "Epoch 12/100\n",
            "313/313 [==============================] - 34s 108ms/step - loss: 0.5094 - accuracy: 0.7618 - val_loss: 0.5265 - val_accuracy: 0.7422\n",
            "Epoch 13/100\n",
            "313/313 [==============================] - 34s 109ms/step - loss: 0.5056 - accuracy: 0.7640 - val_loss: 0.5207 - val_accuracy: 0.7468\n",
            "Epoch 14/100\n",
            "313/313 [==============================] - 34s 107ms/step - loss: 0.5027 - accuracy: 0.7659 - val_loss: 0.5226 - val_accuracy: 0.7434\n",
            "Epoch 15/100\n",
            "313/313 [==============================] - 34s 110ms/step - loss: 0.4998 - accuracy: 0.7689 - val_loss: 0.5678 - val_accuracy: 0.6992\n",
            "Epoch 16/100\n",
            "313/313 [==============================] - 38s 121ms/step - loss: 0.4977 - accuracy: 0.7677 - val_loss: 0.5155 - val_accuracy: 0.7500\n",
            "Epoch 17/100\n",
            "313/313 [==============================] - 34s 110ms/step - loss: 0.4944 - accuracy: 0.7713 - val_loss: 0.5222 - val_accuracy: 0.7450\n",
            "Epoch 18/100\n",
            "313/313 [==============================] - 34s 108ms/step - loss: 0.4927 - accuracy: 0.7712 - val_loss: 0.5149 - val_accuracy: 0.7486\n",
            "Epoch 19/100\n",
            "313/313 [==============================] - 33s 106ms/step - loss: 0.4905 - accuracy: 0.7730 - val_loss: 0.5138 - val_accuracy: 0.7464\n",
            "Epoch 20/100\n",
            "313/313 [==============================] - 36s 114ms/step - loss: 0.4880 - accuracy: 0.7740 - val_loss: 0.5124 - val_accuracy: 0.7500\n",
            "Epoch 21/100\n",
            "313/313 [==============================] - 34s 108ms/step - loss: 0.4871 - accuracy: 0.7749 - val_loss: 0.5143 - val_accuracy: 0.7488\n",
            "Epoch 22/100\n",
            "313/313 [==============================] - 39s 125ms/step - loss: 0.4847 - accuracy: 0.7776 - val_loss: 0.5148 - val_accuracy: 0.7486\n",
            "Epoch 23/100\n",
            "313/313 [==============================] - 35s 112ms/step - loss: 0.4830 - accuracy: 0.7776 - val_loss: 0.5135 - val_accuracy: 0.7500\n"
          ]
        }
      ],
      "source": [
        "rmsprop = keras.optimizers.RMSprop(learning_rate=1e-4)\n",
        "model2.compile(optimizer=rmsprop, loss='binary_crossentropy',\n",
        "               metrics=['accuracy'])\n",
        "\n",
        "checkpoint_cb = keras.callbacks.ModelCheckpoint('best-embedding-model.h5',\n",
        "                                                save_best_only=True)\n",
        "early_stopping_cb = keras.callbacks.EarlyStopping(patience=3,\n",
        "                                                  restore_best_weights=True)\n",
        "\n",
        "history = model2.fit(train_seq, train_target, epochs=100, batch_size=64,\n",
        "                     validation_data=(val_seq, val_target),\n",
        "                     callbacks=[checkpoint_cb, early_stopping_cb])"
      ]
    },
    {
      "cell_type": "code",
      "execution_count": null,
      "metadata": {
        "colab": {
          "base_uri": "https://localhost:8080/",
          "height": 449
        },
        "id": "brUvKwLt6kQb",
        "outputId": "70152d22-4cac-4483-bfac-19c7bc5a27d2",
        "tags": []
      },
      "outputs": [
        {
          "output_type": "display_data",
          "data": {
            "text/plain": [
              "<Figure size 640x480 with 1 Axes>"
            ],
            "image/png": "[encoded data removed]"
          },
          "metadata": {}
        }
      ],
      "source": [
        "plt.plot(history.history['loss'])\n",
        "plt.plot(history.history['val_loss'])\n",
        "plt.xlabel('epoch')\n",
        "plt.ylabel('loss')\n",
        "plt.legend(['train', 'val'])\n",
        "plt.show()"
      ]
    }
  ],
  "metadata": {
    "accelerator": "GPU",
    "colab": {
      "provenance": [],
      "include_colab_link": true
    },
    "kernelspec": {
      "display_name": "default:Python",
      "language": "python",
      "name": "conda-env-default-py"
    },
    "language_info": {
      "codemirror_mode": {
        "name": "ipython",
        "version": 3
      },
      "file_extension": ".py",
      "mimetype": "text/x-python",
      "name": "python",
      "nbconvert_exporter": "python",
      "pygments_lexer": "ipython3",
      "version": "3.9.10"
    }
  },
  "nbformat": 4,
  "nbformat_minor": 0
}